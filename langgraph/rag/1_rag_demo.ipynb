{
 "cells": [
  {
   "cell_type": "code",
   "execution_count": 1,
   "id": "b77aac1a-987a-4b54-826b-6897d07c30ae",
   "metadata": {},
   "outputs": [],
   "source": [
    "# tavilysearch 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\n",
    "# 千问：sk-a31a563bce7146bf8c8ab93ad5fea537\n",
    "# cohere: 5HPQX7dn7kV61LBb3EsQcfiqjtGbAPvk08bA4VkD\n",
    "\n",
    "import os\n",
    "os.environ['DASHSCOPE_API_KEY'] = 'sk-a31a563bce7146bf8c8ab93ad5fea537'"
   ]
  },
  {
   "cell_type": "code",
   "execution_count": 2,
   "id": "6e1a877b-68ab-4a67-a83c-05e8e696eff1",
   "metadata": {},
   "outputs": [],
   "source": [
    "from langchain_community.chat_models.tongyi import ChatTongyi\n",
    "\n",
    "llm = ChatTongyi(model='qwen-plus')"
   ]
  },
  {
   "cell_type": "code",
   "execution_count": 3,
   "id": "0768a233-5b90-419d-a627-2ab809f2fe51",
   "metadata": {},
   "outputs": [
    {
     "name": "stderr",
     "output_type": "stream",
     "text": [
      "USER_AGENT environment variable not set, consider setting it to identify your requests.\n",
      "No sentence-transformers model found with name ./embeddings/bge-base-en-v1.5. Creating a new one with mean pooling.\n"
     ]
    },
    {
     "name": "stdout",
     "output_type": "stream",
     "text": [
      "768\n"
     ]
    },
    {
     "name": "stderr",
     "output_type": "stream",
     "text": [
      "/home/zta/anaconda3/envs/langgraph/lib/python3.11/site-packages/langsmith/client.py:241: LangSmithMissingAPIKeyWarning: API key must be provided when using hosted LangSmith API\n",
      "  warnings.warn(\n"
     ]
    },
    {
     "data": {
      "text/plain": [
       "'Task Decomposition is the process of breaking down a complex task into smaller, more manageable sub-tasks or steps. This technique helps in planning and executing tasks more efficiently, especially when used with large language models (LLMs) through methods like Chain of Thought (CoT). It can be achieved through simple prompts, task-specific instructions, or human inputs.'"
      ]
     },
     "execution_count": 3,
     "metadata": {},
     "output_type": "execute_result"
    }
   ],
   "source": [
    "import bs4\n",
    "from langchain import hub\n",
    "from langchain_chroma import Chroma\n",
    "from langchain_community.document_loaders import WebBaseLoader\n",
    "from langchain_core.output_parsers import StrOutputParser\n",
    "from langchain_core.runnables import RunnablePassthrough\n",
    "from langchain_openai import OpenAIEmbeddings\n",
    "from langchain.embeddings import HuggingFaceBgeEmbeddings\n",
    "from langchain_text_splitters import RecursiveCharacterTextSplitter\n",
    "\n",
    "loader = WebBaseLoader(\n",
    "    web_path=('https://lilianweng.github.io/posts/2023-06-23-agent/'),\n",
    "    bs_kwargs=dict(\n",
    "        parse_only=bs4.SoupStrainer(\n",
    "            class_=(\"post-content\", \"post-title\", \"post-header\")\n",
    "        )\n",
    "    )\n",
    ")\n",
    "\n",
    "embedding = HuggingFaceBgeEmbeddings(\n",
    "    model_name='./embeddings/bge-base-en-v1.5',\n",
    "    model_kwargs={'device': 'cuda'},\n",
    "    encode_kwargs = {'normalize_embeddings': True}\n",
    ")\n",
    "\n",
    "emb = embedding.embed_query(\"hello world\")\n",
    "print(len(emb))\n",
    "\n",
    "docs = loader.load()\n",
    "\n",
    "text_splitter = RecursiveCharacterTextSplitter(chunk_size=1000, chunk_overlap=200)\n",
    "splits = text_splitter.split_documents(docs)\n",
    "vectorstore = Chroma.from_documents(documents=splits, embedding=embedding)\n",
    "\n",
    "retriever = vectorstore.as_retriever()\n",
    "prompt = hub.pull(\"rlm/rag-prompt\")\n",
    "\n",
    "def format_docs(docs):\n",
    "    return \"\\n\\n\".join(doc.page_content for doc in docs)\n",
    "\n",
    "rag_chain = (\n",
    "    {\"context\": retriever | format_docs, \"question\": RunnablePassthrough()}\n",
    "    | prompt\n",
    "    | llm\n",
    "    | StrOutputParser()\n",
    ")\n",
    "\n",
    "rag_chain.invoke(\"What is Task Decomposition?\")"
   ]
  },
  {
   "cell_type": "code",
   "execution_count": 4,
   "id": "60b9744f-00b6-44a1-979e-35cd8b3137c1",
   "metadata": {},
   "outputs": [
    {
     "name": "stderr",
     "output_type": "stream",
     "text": [
      "No sentence-transformers model found with name ./embeddings/bge-base-zh-v1.5. Creating a new one with mean pooling.\n"
     ]
    }
   ],
   "source": [
    "with open('第一卷 第四次圣杯战争秘话 - 虚渊玄.txt', encoding='utf-8') as file:\n",
    "    contents = file.read()\n",
    "\n",
    "embedding = HuggingFaceBgeEmbeddings(\n",
    "    model_name='./embeddings/bge-base-zh-v1.5',\n",
    "    model_kwargs={'device': 'cuda'},\n",
    "    encode_kwargs = {'normalize_embeddings': True}\n",
    ")\n",
    "\n",
    "text_splitter = RecursiveCharacterTextSplitter(chunk_size=1000, chunk_overlap=200)\n",
    "splits = text_splitter.split_text(contents)\n",
    "vectorstore = Chroma.from_texts(texts=splits, embedding=embedding)\n",
    "\n",
    "retriever = vectorstore.as_retriever()\n",
    "\n",
    "def format_docs(docs):\n",
    "    return \"\\n\\n\".join(doc.page_content for doc in docs)\n"
   ]
  },
  {
   "cell_type": "code",
   "execution_count": 7,
   "id": "05d6311a-9f93-492f-a487-9a04810d4e33",
   "metadata": {},
   "outputs": [],
   "source": [
    "rag_chain = (\n",
    "    {\"context\": retriever | format_docs, \"question\": RunnablePassthrough()}\n",
    "    | prompt\n",
    "    | llm\n",
    "    | StrOutputParser()\n",
    ")\n"
   ]
  },
  {
   "cell_type": "code",
   "execution_count": 8,
   "id": "24ca70db",
   "metadata": {},
   "outputs": [
    {
     "data": {
      "text/plain": [
       "'根据提供的上下文，Saber的Master并没有直接提到，但从文中可以推测，Saber的Master可能是远坂时臣。文中提到远坂时臣正在准备召唤仪式，意图召唤一个强大的Servant，而Saber通常是一个强大Servant的代表。不过，文中没有明确指出Saber就是时臣召唤的Servant。'"
      ]
     },
     "execution_count": 8,
     "metadata": {},
     "output_type": "execute_result"
    }
   ],
   "source": [
    "rag_chain.invoke('saber的master是谁？')"
   ]
  },
  {
   "cell_type": "code",
   "execution_count": 9,
   "id": "9938d9d3",
   "metadata": {},
   "outputs": [
    {
     "data": {
      "text/plain": [
       "[Document(metadata={}, page_content='她是被圣杯所选出的最强职阶之一剑之座的英灵。如果是近战，则无人能凌驾于她之上。她相信无论在什么状况下展开战斗，自己都能从容应付。\\n\\n所以，被偷袭反而最有利。只要光明正大地挡下攻击，再找机会反攻就是了。她会让所有低估她的愚蠢的对手知道，什么才是剑士。\\n\\n「……Saber，接下来我们去看海吧。」\\n\\n看着爱丽丝菲尔那一脸藏不住的兴奋，男装少女微笑着点了点头。绝不能让她注意到自己的紧张。\\n\\n自己曾发过誓要保护爱丽丝菲尔。所以，连此刻爱丽丝菲尔所体会的喜悦，Saber也决心守护到底。\\n\\n只要走过横跨未远川的冬木大桥，就能看到那里有一座大型海滨公园。\\n\\n夜深了，寂静的小路上只有她们两人慢慢的走着。海上的北风毫无遮拦地直接刮过，吹起了爱丽丝菲尔银色的长发，发丝如同流星尾般舞动着。这里冬天时因为海风的关系，连约会的情侣都不愿靠近。\\n\\n而第一次亲眼见到海的爱丽丝菲尔，则因为早已习惯了寒冷而没有在意。\\n\\n「这里，应该趁天亮的时候来的。」\\n\\n海中只有冰冷的黑暗。Saber看着这样的海，心怀歉意地开口说道。但凝视着海平线的爱丽丝菲尔却立刻回答道。\\n\\n「没有啊，夜晚的海也很美。像是夜空的镜子。\\n\\n爱丽丝菲尔听着重重的海浪声，逐渐露出了满脸的笑容。\\n\\n或许是因为这天玩的很开心，她雪白的脸颊上浮出一层淡淡的红晕。看着这样的她，没有人会想到她已经结婚并生了孩子。她的笑容那样的纯真无邪，仿佛还是个十几岁的少女。\\n\\n「原来和骑士您共同漫步在一个陌生的城市，是如此快乐的事情。」\\n\\n「不知我这个冒牌骑士的表现是否合格？」\\n\\n对于爱丽丝菲尔的玩笑，Saber这个不苟言笑的英灵居然说出了这样调侃的话语。\\n\\n「合格，而且无懈可击。Saber，今天的你是世界上最最完美的骑士。」\\n\\n「这是我的荣幸。公主殿下。」\\n\\n面对言辞诚恳的黑衣少女，爱丽丝菲尔似乎有些害羞地把脸转向了海面。\\n\\n「Saber你喜欢海么？」\\n\\n「这个……」\\n\\nSaber苦笑着．思绪却飞回了遥远的故乡。\\n\\n「在我那个时代．我的国家……海的那边是侵略者的聚集地。\\n\\n所以我能想到的只有让人不快的回忆。」\\n\\n「这样啊……」\\n\\n爱丽丝菲尔的表情因为Saber的回答而变得凝重了。\\n\\n「……我真是的。对不起。我们一样都是女孩子，可你身为亚瑟王，所以不可能有空去和骑士约会什么的……」\\n\\n「嗯，也是啊。」'),\n",
       " Document(metadata={}, page_content='韦伯看到了。被切裂的空间打开一个缺口．从那里出现了极强的存在的情景。\\n\\n然后，韦伯想起了Servant的非凡之处。\\n\\n成为传说的英雄，不但是那英雄人物本身．还包括关于他的逸闻，和具有其「象征」的武具或器械之类的存在。而那「象征」，才是作为英灵具现的Servant所隐藏的、作为最后的王牌使用的究极奥义。通常被称为「宝具」的必杀兵器。\\n\\n所以——不会错的。现在Rider从虚空里显现出的那个，毫无疑问是他的宝具才对。韦伯完全能够了解那宝具内隐藏着远远超出魔术范畴和强度之外的力量。那是不单超越了人之理，连魔术之理也被超越的，属于奇迹之理的存在。\\n\\n「像这样斩断绳结，我得到了这个。戈迪亚斯王向宙斯献上的供品。……我能够占据Rider的席位，也一定是这个的功劳吧。」（公元前223年冬天，马其顿亚历山大大帝进兵亚细亚。当他到达亚细亚的弗尼吉亚城时，听说城里有个著名的预言：几百年前，弗尼吉亚的戈迪亚斯王在其牛车上系了一个复杂的绳结．并宣告谁能解开它．谁就会成为亚细亚王。从此，各国的武士和王子都来试解这个结，可都无功而返。亚历山大仔细观察着这个结后，许久许久，始终连绳头都找不着，在那一刻，他突然想到：为什么不用自己的行动规则来解开这个绳结呢?! 于是，亚历山大拔出剑来，对准绳结，狠狠地一剑把绳结劈成了两半，这个保留了数百载的难解之结，就这样轻易地被解开了。事实上，亚历山大最终也成为「千古一帝」。）\\n\\n虽然Rider说话时看起来不是很自豪，但拿出那兵器时浮现的夸耀的笑容，证明了那应该是他寄予了绝大信赖的珍爱之物。\\n\\n「不过，这只是小意思。我真正依靠的宝具另有其物。以后有机会再让你见识好了。不过必须要有那个程度的强敌出现才行呢。」\\n\\n韦伯再次以畏惧的眼神望着Rider。正因为他是魔术师，所以才能理解刚才眼前那宝具的威力。将其换算成近代兵器的话，大概可以匹敌战略轰炸机吧。要是让其暴走个一小时的话，新都周遭的全域都能够被轻易化为焦土之山。\\n\\n已经可以说毫无怀疑的余地了。这个Rider，正是韦伯所期望的最强Servant。其威力已经超过了韦伯的想象。如果存在这个男人都无法打倒的敌人的话，那大概是连天上的神罚也奈何不得的存在吧。\\n\\n「喂喂，小子，你那副呆样傻站着可是一点用也没有哦。」\\n\\nRider一边坏心眼的笑着，一边朝瘫坐着的Master说道。'),\n",
       " Document(metadata={}, page_content='初次与他见面是在昏暗的森林中，想起来这还是第一次在充足的光线中仔细端详他的风采。\\n\\n身长大概轻松超过了2米。青铜的胴铠中伸出的上肢和腿部，覆盖着仿佛从内侧鼓胀出来的健硕肌肉．看起来拥有仿佛可以徒手将熊掐死的臂力。雕塑般的深刻面貌，闪闪发光的瞳孔，和好像在燃烧的赤色头发与胡须。被同样的绯色染红，有着豪奢纹饰的厚重斗篷，让人不禁联想起剧场舞台的幕布。\\n\\n这种打扮的彪形大汉堂堂正正地矗立在近代设施图书馆的样子，虽然让人觉得什么地方有些滑稽，但对于被警报装置尖利的呜叫吓得六神无主的韦伯来说，他才没有工夫觉得有趣呢。\\n\\n「傻瓜！傻瓜傻瓜傻瓜！居然踢烂卷闸门出来，你到底在想些什么啊！为什么不像进去时一样灵体化呀!? 」\\n\\n对着破口大骂的韦伯，Rider却奇妙地露出非常高兴的笑容，举起手中的两本书说。\\n\\n「保持灵体的话．就不能拿着这些了。」\\n\\n厚重的硬壳书皮装订本和薄薄的册子。看来Rider从图书馆里带出了那两本书。不过为了这么点理由就扰乱治安，身为Master是无法原谅的。\\n\\n「不要磨磨蹭蹭的！逃走了！快点逃走吧！」\\n\\n「真不象话．没什么好狼狈的。这样不是好像小偷一样了吗。」\\n\\n「你这不是小偷是什么啊！」\\n\\n对着气势汹汹大喊的韦伯，Rider显得很不高兴。\\n\\n「大不相同啊。趁着黑暗逃跑的话只是匹夫的夜盗而已。高奏凯歌离去的话．那就是征服王的掠夺。」\\n\\n韦伯面对完全无法沟通的对手急得直挠脑袋。总之，只要拿着那两本书。Rider就会顽固的不进行灵体化，而是作为深夜的Cosplay怪人堂堂的昂首阔步。\\n\\n无计可施的韦伯只好跑向Rider，从他手里拿过两本书。\\n\\n「这样就可以了吧!? 赶快消失啊！现在就消失！马上消失！」\\n\\n「哦哦，那搬运就交给你了。注意不要弄掉了哟。」\\n\\nRider满足的点着头．再次消去了身影。\\n\\n可惜韦伯可没有安心的空闲。图书馆的警报毫无疑问的很快会传到警备公司的。在警卫赶来之前究竟有多长时间可以用来犹豫，已经不是他该考虑的了。\\n\\n「啊啊。真是的——为什么——会变成这样呀!? 」\\n\\n丢下不知是今晚第几次的哀叹，韦伯开始全速奔跑。\\n\\n※※※※※\\n\\n逃到这里应该安全了，等到能这么喘口气的时候，已经是韦伯全力疾驰到冬木大桥附近的步行道之后的事了。\\n\\n「哈——哈——哈——……」'),\n",
       " Document(metadata={}, page_content='Saber还是沉默，凝视着Rider飞过的天空。她那伶俐的侧脸上没有刚才拼死搏斗留下的兴奋和憔悴之色．只是凛然而又沉静地站在战场上。少女穿着铠甲的身姿就像一幅画一样美得不可侵犯。\\n\\n可是爱丽丝菲尔与Saber沉着的仪态相反．因为她知道Saber负了很重的伤。\\n\\n「Saber、你的左腕——」。\\n\\n「是。手太疼了，失态了。就像Rider所说的那样，如果不与Lancer对决解除伤口的咒语，会妨碍与其他Servant的战斗。」\\n\\n骑士王淡淡地诉说的语气．爱丽丝菲尔从中听不出任何让人不安的信息。Saber的刚毅反而安慰了爱丽丝菲尔。\\n\\n「……谢谢你Saber。多亏了你，我才活了下来。」\\n\\n爱丽丝菲尔低头说着，Saber向她报以微笑。\\n\\n「我面向前方作战，是为了保护在我背后的您。爱丽丝菲尔。」\\n\\n爱丽丝菲尔又再次痛感到了，Saber的坚强、勇敢和温柔。\\n\\n比自己整整小一轮还要多．尚未成年的少女身姿——如此娇小的身躯，纤细的手腕，但是她是一个真正的骑士，英雄。\\n\\n「战斗现在才开始。爱丽丝菲尔。今夜的战争只不过是战争开始的最初一夜而已。」\\n\\n「……是啊」\\n\\n「都是势均力敌的强敌。从不同的时代被邀请来的英雄们……没有一个实力平平的敌手。」\\n\\nSaber的声音中没有焦躁和畏惧。在风暴来临之前，战士的心情是既平静又兴奋。战士昂扬的斗志和滚烫的鲜血，是无论任何时代任何世界都不会改变的。这是英雄之魂的证明。\\n\\n少女紧盯着南方的夜空，冷静地说道。\\n\\n「这就是……圣杯战争」\\n\\n－153：41：36\\n\\n这一片空间拉上了黑幕。\\n\\n并不是空洞的黑暗。是呈胶粘状、浓缩的黑暗，好像发馊般的糜烂，超过极限的黑色——黑暗。\\n\\n散发着令人作呕的浓密血腥味。各处都传来了虚弱的呻吟和啜泣声。令人察觉到了各种恐怖气息，此时关闭了所有视野的黑暗帷幕也许反而是充满了慈悲的围屏。\\n\\n在这样的黑暗中，有一个如同在水底抬头看到的满月一般，放出淡淡白光的圆形。\\n\\n那是一个线球般大小的水晶球。朦胧的白光是水晶球中浮现的影像。\\n\\n瓦砾堆成山，荒凉的夜景。可是这个场景并不是开始就有的。被彻底破坏过的景观，在前二十分钟之前还是空无一人、寂静的仓库街。在那里展开的热战，在背后的水晶球全部地映照了出来。\\n\\n还有，看到所有战斗的两个大人物，水晶球发出的淡光照映着两人的脸，两人的脸上都显露了异样的喜悦之情。\\n\\n「——厉害。真的很厉害！！」')]"
      ]
     },
     "execution_count": 9,
     "metadata": {},
     "output_type": "execute_result"
    }
   ],
   "source": [
    "retriever.invoke('saber是谁？')"
   ]
  }
 ],
 "metadata": {
  "kernelspec": {
   "display_name": "langgraph",
   "language": "python",
   "name": "python3"
  },
  "language_info": {
   "codemirror_mode": {
    "name": "ipython",
    "version": 3
   },
   "file_extension": ".py",
   "mimetype": "text/x-python",
   "name": "python",
   "nbconvert_exporter": "python",
   "pygments_lexer": "ipython3",
   "version": "3.11.10"
  }
 },
 "nbformat": 4,
 "nbformat_minor": 5
}
