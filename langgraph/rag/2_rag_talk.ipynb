{
 "cells": [
  {
   "cell_type": "code",
   "execution_count": 2,
   "metadata": {},
   "outputs": [],
   "source": [
    "import os\n",
    "os.environ['DASHSCOPE_API_KEY'] = 'sk-a31a563bce7146bf8c8ab93ad5fea537'\n",
    "\n",
    "from langchain_community.chat_models.tongyi import ChatTongyi\n",
    "llm = ChatTongyi(name='qwen-plus')"
   ]
  },
  {
   "cell_type": "code",
   "execution_count": 16,
   "metadata": {},
   "outputs": [
    {
     "name": "stderr",
     "output_type": "stream",
     "text": [
      "No sentence-transformers model found with name ./embeddings/bge-base-zh-v1.5. Creating a new one with mean pooling.\n"
     ]
    }
   ],
   "source": [
    "from langchain_core.vectorstores import InMemoryVectorStore\n",
    "from langchain.chains import create_retrieval_chain\n",
    "from langchain.chains.combine_documents import create_stuff_documents_chain\n",
    "from langchain.embeddings import HuggingFaceBgeEmbeddings\n",
    "from langchain_text_splitters import RecursiveCharacterTextSplitter\n",
    "from langchain.prompts import ChatPromptTemplate\n",
    "\n",
    "embedding = HuggingFaceBgeEmbeddings(\n",
    "    model_name='./embeddings/bge-base-zh-v1.5',\n",
    "    model_kwargs={'device': 'cuda'},\n",
    "    encode_kwargs={'normalize_embeddings': True}\n",
    ")\n",
    "\n",
    "with open('斗破苍穹.txt', encoding='utf-8') as file:\n",
    "    contents = file.read()\n",
    "\n",
    "text_splitter = RecursiveCharacterTextSplitter(chunk_size=1000, chunk_overlap=200)\n",
    "splits = text_splitter.split_text(contents)\n",
    "vectorstroe = InMemoryVectorStore.from_texts(\n",
    "    texts=splits, embedding=embedding\n",
    ")\n",
    "retriever = vectorstroe.as_retriever()\n",
    "\n",
    "system_prompt = (\n",
    "    \"你是一个问答助手\"\n",
    "    \"请使用以下上下文的检索片段回答用户的问题 \"\n",
    "    \"如果你无法通过上下文获取到用户所需要的答案，则告诉用户你不知道。\"\n",
    "    \"请将你的回答精简到三句以内，使你的回答尽可能简洁。\"\n",
    "    \"\\n\\n\"\n",
    "    \"{context}\"\n",
    ")\n",
    "prompt = ChatPromptTemplate.from_messages(\n",
    "    [\n",
    "        (\"system\", system_prompt),\n",
    "        (\"human\", \"{input}\"),\n",
    "    ]\n",
    ")\n",
    "question_answer_chain = create_stuff_documents_chain(llm, prompt)\n",
    "rag_chain = create_retrieval_chain(retriever, question_answer_chain)\n"
   ]
  },
  {
   "cell_type": "code",
   "execution_count": 17,
   "metadata": {},
   "outputs": [
    {
     "data": {
      "text/plain": [
       "{'input': '萧炎和魂天帝谁厉害？',\n",
       " 'context': [Document(id='7bc735c1-4d7b-4428-8e6b-98e8ef32569a', metadata={}, page_content='“挺狠的手段啊,为了完成帝品雏丹的最后一步,竟然造了这般杀戮…”萧炎轻声道。\\n\\n“成王败寇,可不讲究过程。”魂天帝冷笑一声,盯着萧炎,道:“今日,便是我双方决战之时,你若失败,联军之中,必然鸡犬不留!”\\n\\n“你若败,魂族,我也会赶尽杀绝。”萧炎淡淡的道,对于魂族,他早便是恨之入骨,若是有机会的话,他决不会做那等伪善之人,当杀,则杀!\\n\\n“哈哈,好,那今日,便让我来试试,究竟是我魂族亡,还是你联军灭!”\\n\\n魂天帝仰天大笑,滔天的血气从其体内暴涌而出,瞬间便是化为无尽血海,血海之中所弥漫的力量,强得令人感到恐怖。\\n\\n“魂族之人,退后千里!”血海弥漫,魂天帝声音冰冷的喝道。\\n\\n听到喝声,那些魂族的强者,也是连忙后退,两名斗帝强者的交手,足以毁天灭地,若是被绞入其中,就算是斗圣巅峰的强者,必然也是当场陨落,而且谁都明白,这场战争的真正胜负关键,乃是萧炎以及魂天帝二人,两人的失败,决定着双方最后的结局!\\n\\n“萧炎,今日是本帝封帝之时,你可要让本帝战个痛快!”\\n\\n魂天帝血眸之中,血气滔天,他站在血海之中,此刻倒也是有着冲天豪气,此人虽然手段毒辣,但也算得上是枭雄般的人物,今日之战,两人之中,必然有其一陨落!\\n\\n此战,唯有尽全力相搏!\\n\\n“奉陪到底!”\\n\\n萧炎双眸中,同样是有着点点火热涌动,这一战,将会是斗气大陆万年之内,最为巅峰的一战!\\n\\n不论成败,此战,必将流传千古!\\n\\n望着几乎霎那间便是变得空空荡荡的天空,所有人都是紧闭呼吸,两人虽未动手,但那股气势,却是已如同山岳般的压在所有人的头上。\\n\\n“哗哗!”\\n\\n血海滔天,弥漫着天际,魂天帝眼中的猩红,仿佛也是在此刻变得浓郁了许多,这般对恃半晌,他脚步猛的一步踏出。\\n\\n“轰!”\\n\\n随着他这一步的踏出,整个天空,都是在此刻颤抖了起来,而那滔天血海也是疯狂翻涌,直接是化为数万丈庞大的血浪,狠狠的对着萧炎翻卷而去。\\n\\n在那高达数万丈的血浪之下,萧炎的身形,渺小得就如同蝼蚁一般。\\n\\n萧炎泛着绚丽光芒的双瞳,盯着那声势骇然的血浪,那之中所蕴含的能量,足以轻易将一名九星斗圣连灵魂都是轰碎而去。\\n\\n“火来。”\\n\\n萧炎嘴巴一动,一道轻声便是传出,而在其声音传出的霎那,下方大地,直接是轰隆隆的裂开一道巨大深渊,深渊之中,赤红的岩浆如同喷泉一般,冲上天际,最后尽数悬浮在天空上,也是化为一道岩浆巨浪,与那血色浪头狠狠的轰在了一起。\\n\\n“砰!”'),\n",
       "  Document(id='56f3b448-4904-4a9a-a04e-b6561254de6b', metadata={}, page_content='在魂天帝出手的同时,一股仿若凌驾于天地之上的气息,陡然自其体内暴涌而出,顿时,这片无边无尽的血海之中,便是泛起了惊涛骇浪。\\n\\n“砰砰砰!”\\n\\n那数十位魂族的长老,身下血海涌动,直接是化为血泡将他们包裹而进,旋即血泡狠狠紧缩,只听得一道道沉闷之声响起,他们的身形,便是爆炸成血沫,汇入下方的血海之中。\\n\\n这些魂族的强者,连反应的机会都是没有,便是被魂天帝一手抹杀!\\n\\n“你已经成功了?!”\\n\\n感受到那股凌驾天地般的浩荡气息,虚无吞炎终于是惊骇失色。\\n\\n“已成功半月,只不过是在等着你而已…”魂天帝舔了舔猩红的嘴唇,手掌对着虚无吞炎轻轻一抓:“为了庆祝我成为这万载之中的第一位斗帝强者,将你的本源之火,交给我吧。”\\n\\n“魂天帝,魂族那些族人的性命,都在我的一念之间,你若胆敢出手,那便别怪我心狠手辣!”虚无吞炎暴喝道。\\n\\n闻言,魂天帝手掌微微一顿,微偏着头,古怪的看着虚无吞炎,道:“你跟着我这么久,难道还不知道我的心性?”\\n\\n虚无吞炎心头一寒,这个家伙为了达到目的,足可付出任何的代价,即便这个代价,是整个魂族!\\n\\n“过来吧…”\\n\\n然而,就在虚无吞炎想通此事,就欲逃跑之时,却是骇然的发现,他的身体,竟然完全的失去了移动能力!\\n\\n“爆!”\\n\\n魂天帝面带微笑,对着虚无吞炎的手掌轻轻握下,后者的身体,便是直接爆炸而开,化为漫天的黑炎,疯狂的对着四处逃窜。\\n\\n魂天帝瞥了一眼那些逃窜的黑炎,嘴巴一张,吸力暴涌,那众多的黑炎,便是飞快的倒飞而出,最后尽数掠进了他嘴巴之中。\\n\\n“你现在的力量,对我来说,宛如蝼蚁…”\\n\\n几乎是不费吹灰之力将虚无吞炎吞进体内,魂天帝手背优雅的搽了搽唇角,猩红的嘴唇,显得格外的邪异。\\n\\n“现在…似乎也是该去解决那些烦人的家伙了吧?”\\n\\n魂天帝的目光,投向中州大地,脸庞上,浮现一抹妖异笑容,而与此同时,一道含着无尽血腥味道的声音,也是在中州之上,浩浩荡荡的响起而起。\\n\\n“记得今日,乃是我魂天帝,封帝之时!”\\n\\nPS:斗破快结局了,很多读者问网游的事,嗯,斗破网游是搜狐畅游在开发,《斗破苍穹》网游的官方微博:http://t.qq.com/cyou-doupocangqiong,这会有网游最新的研发进度,土豆也会持续关注中。\\n\\n\\n\\n\\n\\n两年三个月，五百三十万。\\n\\n\\n两年三个月,五百三十万。'),\n",
       "  Document(id='e682172c-1b82-4b55-8b92-e99a4928fea4', metadata={}, page_content='“三族不需要派遣人手防御么?”萧炎眉头微皱,道。\\n\\n“魂族这个时候,可没那胆量再分出人去进攻我们三族…”一旁的雷赢沉声道。\\n\\n“这场交锋,很重要,输了的话,恐怕就是万劫不复,既然如此,那便是唯有尽力一搏。”炎烬也是笑道,不过其双眼中,却是涌动着凌厉的寒光。\\n\\n萧炎哑然,旋即默默的点了点头,的确,若真是让那魂天帝顺利的晋入斗帝,三族再怎么防御,都将会是一个结局,既然这样,还不如现在便拼命一搏…\\n\\n“对了,那岩浆地底,我已经闯过,也发现了那里面的古帝洞府,不过…在那洞府处,有着一神秘生物守护,实力极端的恐怖,我想,恐怕不会弱于古伯父与魂天帝。”萧炎面色肃然的道。\\n\\n此话一出,不仅雷赢等人面色一变,就连古元,身体都是微微一抖,若真是如此的话,那这场大战,可就真是有些莫测了,一名九星斗圣后期,足以扭转战争的结局!\\n\\n“这千年内,我并没有听说过任何非人类的种族,出现过九星斗圣后期的强者,想来此神秘生物,存在的时间必然极为久远,说不定,我与魂天帝都比不上…”古元喃喃道。\\n\\n萧炎等人点了点头,这么说也能说得过去,毕竟那大家伙能够成为古帝洞府的守护者,那么存在的时间定然不会短到那里去,要说超过古元与魂天帝的话,倒也不是不可信,毕竟,这种魔兽般的存在,寿命本就有着天然的优势。\\n\\n在萧炎等人谈话间,那远处的天空,魂天帝却是踏空缓步而出,目光淡淡的瞥了一眼与之对恃的联军,最后停留在了古元以及萧炎等人身上。\\n\\n“古元,我先前与你说,现在依然有效,若当我真是成功晋入斗帝时,你再来归降,我可不会再有丝毫的留情,为了古族的延续,你可得多想想。”魂天帝声音平淡的道。\\n\\n见到这个家伙到了现在竟然都还是想要让自己合作,古元倒是忍不住的一笑,并未说话,手掌举起,旋即轻轻挥下,顿时,那联军之中,猛然爆发出无数道强悍气息,冷厉的目光,将魂族大军锁定着。\\n\\n“当真是可惜…”\\n\\n见状,魂天帝轻轻一叹,也不再多说,一道璀璨光团便是自其纳戒中飞腾而起,悬浮在其头顶上,隐隐间,光团之中,有着光雾荡漾,最后,化为一道虚幻的苍老身影。\\n\\n随着那一道苍老身影的出现,这片天地的能量,都是因此而沸腾起来,一股宛如天地主宰般的威压,从天而降。\\n\\n“陀舍古帝!”\\n\\n望着那一道拥有着一头绚丽长发的老者,古元与萧炎等人,面色顿时凝重起来,沉声道,这天地间,能够拥有着这般气势的,恐怕也就那位传说中的陀舍古帝了。'),\n",
       "  Document(id='c4eb7677-f18d-4c24-af90-66b60d271970', metadata={}, page_content='对于曾修这番冷笑话语,萧炎却是未曾理会,目光转向赤火长老,笑道:“不知道这要如何比试?难道当众炼丹?”\\n\\n“不用如此麻烦,老夫没这么多时间与你瞎耗。”曾修接过话头,冷笑一声,道:“既然你也是炼药师,那么应该也知道灵魂力量对于炼药师的重要性,既然如此,那便比灵魂力量!念在你是晚辈,老夫便让你先出手,只要你能使用灵魂力量将我击退,那么便算你胜!”\\n\\n不怪曾修如此狂妄,炼药师与寻常斗者最大的差距,便是灵魂力量,一名六品炼药师的灵魂力量,足以和一名斗宗强者相媲美!\\n\\n听得曾修此话,萧炎先是一愣,旋即脸色迅速变得古怪了起来,比灵魂力量?\\n\\n曾修话语落下,袖袍一挥,负手而立,目光淡淡的望着萧炎,一代大师风范,看起来倒是做得十足。\\n\\n“出手吧。”\\n\\n萧炎微微张了张嘴,旋即化为一声轻叹,在那无数道目光注视下,缓缓抬起手掌,然后隔空对着那曾修轻轻扇了过去。\\n\\n一手挥下,磅礴浩瀚的灵魂力量,顿时犹如风暴一般,席卷天际!\\n\\n这一霎,那一直脸色平淡的赤火长老,脸色终于是豁然大变!\\n\\n而那曾修,淡然的脸色,更是瞬间煞白.....\\n\\n\\n\\n\\n\\n第一千零二十一章 一招\\n\\n\\n第一千零二十一章一招\\n\\n磅礴的灵魂力量,犹如无穷涛浪般,席卷天际,旋即带起一股异常可怕的威压,宛如闪电般的对着那紫袍老者暴掠而去,沿途所过处,空间震荡,一丝丝漆黑裂缝,悄然蔓延!\\n\\n虽说灵魂力量乃是无形无色,但稍有实力者,便是能够感觉到那种弥漫天际的恐怖威压,这种威压来源于灵魂深处,令得人几乎有种颤粟般的感觉,这一刻,场外的众多窃窃私语噶然而止,一些对萧炎先前举动嗤之以鼻的人,脸庞上的表情也是直接凝固,看上去显得分外滑稽。\\n\\n如今的萧炎,在晋入斗宗之后,若是论起炼药师等级的话,恐怕还真是能够达到七品等级,而且再加上他灵魂力量本就极为出色,想必即便是与一些真正的七品炼药大师相比都是不遑多让!\\n\\n这等恐怖的灵魂力量,一经施展,那威力自然是异常可怕,别说这曾修只是一名六品炼药师,即便他达到了七品等级,与萧炎战起来,鹿死谁手都是未知之数!\\n\\n赤火长老目瞪口呆的望着那席卷天际的磅礴力量,片刻后,深吸了一口气,目露震惊的转向不远处的萧炎,一道嘶哑的声音,带着许些难以置信,缓缓从喉咙中传出:“七品炼药师?”')],\n",
       " 'answer': '萧炎和魂天帝都是极其强大的存在，但从描述来看，魂天帝已晋入斗帝，实力更胜一筹。'}"
      ]
     },
     "execution_count": 17,
     "metadata": {},
     "output_type": "execute_result"
    }
   ],
   "source": [
    "rag_chain.invoke({'input': '萧炎和魂天帝谁厉害？'})"
   ]
  },
  {
   "cell_type": "code",
   "execution_count": 18,
   "metadata": {},
   "outputs": [],
   "source": [
    "from langchain.chains import create_history_aware_retriever\n",
    "from langchain_core.prompts import MessagesPlaceholder\n",
    "\n",
    "contextualize_q_system_prompt = (\n",
    "    \"假设有一个聊天记录和最新的用户问题，其中可能涉及到聊天记录中的上下文。\"\n",
    "    \"请根据这些信息，生成一个独立的问题，以便无需查看聊天记录即可理解。\"\n",
    "    \"不要直接回答问题，如有必要，请对其进行重构，否则请原样返回。\"\n",
    ")\n",
    "\n",
    "contextualize_q_prompt = ChatPromptTemplate.from_messages(\n",
    "    [\n",
    "        (\"system\", contextualize_q_system_prompt),\n",
    "        MessagesPlaceholder(\"chat_history\"),\n",
    "        (\"human\", \"{input}\")\n",
    "    ]\n",
    ")\n",
    "\n",
    "history_aware_retriever = create_history_aware_retriever(\n",
    "    llm, retriever, contextualize_q_prompt\n",
    ")\n",
    "\n"
   ]
  },
  {
   "cell_type": "code",
   "execution_count": 19,
   "metadata": {},
   "outputs": [],
   "source": [
    "qa_prompt = ChatPromptTemplate.from_messages(\n",
    "    [\n",
    "        (\"system\", system_prompt),\n",
    "        MessagesPlaceholder(\"chat_history\"),\n",
    "        (\"human\", \"{input}\"),\n",
    "    ]\n",
    ")\n",
    "\n",
    "\n",
    "question_answer_chain = create_stuff_documents_chain(llm, qa_prompt)\n",
    "\n",
    "rag_chain = create_retrieval_chain(history_aware_retriever, question_answer_chain)"
   ]
  },
  {
   "cell_type": "code",
   "execution_count": 20,
   "metadata": {},
   "outputs": [
    {
     "name": "stdout",
     "output_type": "stream",
     "text": [
      "萧炎和魂天帝的实力相当，初期僵持不下。魂天帝后来通过吞噬血云增强了自身实力。具体情况不好说，但魂天帝占据了一定优势。\n"
     ]
    }
   ],
   "source": [
    "from langchain_core.messages import AIMessage, HumanMessage\n",
    "\n",
    "chat_history = []\n",
    "\n",
    "question = '萧炎和魂天帝谁厉害'\n",
    "answer = rag_chain.invoke({'input': question, 'chat_history': chat_history})\n",
    "print(answer['answer'])\n",
    "\n",
    "chat_history.extend(\n",
    "    [\n",
    "        HumanMessage(content=question),\n",
    "        AIMessage(content=answer['answer'])\n",
    "    ]\n",
    ")"
   ]
  },
  {
   "cell_type": "code",
   "execution_count": 21,
   "metadata": {},
   "outputs": [
    {
     "name": "stdout",
     "output_type": "stream",
     "text": [
      "萧炎虽然有异火，但魂天帝通过吞噬血云增强了实力，整体实力上占据了优势。具体战斗细节未详细说明。\n"
     ]
    }
   ],
   "source": [
    "question = '萧炎不是有异火么，为啥魂天帝占有一定优势呢？'\n",
    "answer = rag_chain.invoke({'input': question, 'chat_history': chat_history})\n",
    "print(answer['answer'])"
   ]
  },
  {
   "cell_type": "code",
   "execution_count": null,
   "metadata": {},
   "outputs": [],
   "source": [
    "from operator import itemgetter"
   ]
  }
 ],
 "metadata": {
  "kernelspec": {
   "display_name": "langgraph",
   "language": "python",
   "name": "python3"
  },
  "language_info": {
   "codemirror_mode": {
    "name": "ipython",
    "version": 3
   },
   "file_extension": ".py",
   "mimetype": "text/x-python",
   "name": "python",
   "nbconvert_exporter": "python",
   "pygments_lexer": "ipython3",
   "version": "3.11.10"
  }
 },
 "nbformat": 4,
 "nbformat_minor": 2
}
