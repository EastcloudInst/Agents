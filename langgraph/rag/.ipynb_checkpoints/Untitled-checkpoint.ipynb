{
 "cells": [
  {
   "cell_type": "code",
   "execution_count": 2,
   "id": "b77aac1a-987a-4b54-826b-6897d07c30ae",
   "metadata": {},
   "outputs": [],
   "source": [
    "# tavilysearch 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\n",
    "# 千问：sk-a31a563bce7146bf8c8ab93ad5fea537\n",
    "# cohere: 5HPQX7dn7kV61LBb3EsQcfiqjtGbAPvk08bA4VkD\n",
    "\n",
    "import os\n",
    "os.environ['DASHSCOPE_API_KEY'] = 'sk-a31a563bce7146bf8c8ab93ad5fea537'"
   ]
  },
  {
   "cell_type": "code",
   "execution_count": 4,
   "id": "6e1a877b-68ab-4a67-a83c-05e8e696eff1",
   "metadata": {},
   "outputs": [],
   "source": [
    "from langchain_community.chat_models.tongyi import ChatTongyi\n",
    "\n",
    "llm = ChatTongyi(model='qwen-plus')"
   ]
  },
  {
   "cell_type": "code",
   "execution_count": 10,
   "id": "0768a233-5b90-419d-a627-2ab809f2fe51",
   "metadata": {},
   "outputs": [],
   "source": [
    "import bs4\n",
    "from langchain import hub\n",
    "from langchain_chroma import Chroma\n",
    "from langchain_community.document_loaders import WebBaseLoader\n",
    "from langchain_core.output_parsers import StrOutputParser\n",
    "from langchain_core.runnables import RunnablePassthrough\n",
    "from langchain_openai import OpenAIEmbeddings\n",
    "from langchain_text_splitters import RecursiveCharacterTextSplitter\n",
    "\n",
    "loader = WebBaseLoader(\n",
    "\n",
    ")"
   ]
  },
  {
   "cell_type": "code",
   "execution_count": null,
   "id": "60b9744f-00b6-44a1-979e-35cd8b3137c1",
   "metadata": {},
   "outputs": [],
   "source": []
  },
  {
   "cell_type": "code",
   "execution_count": null,
   "id": "05d6311a-9f93-492f-a487-9a04810d4e33",
   "metadata": {},
   "outputs": [],
   "source": []
  }
 ],
 "metadata": {
  "kernelspec": {
   "display_name": "Python 3 (ipykernel)",
   "language": "python",
   "name": "python3"
  },
  "language_info": {
   "codemirror_mode": {
    "name": "ipython",
    "version": 3
   },
   "file_extension": ".py",
   "mimetype": "text/x-python",
   "name": "python",
   "nbconvert_exporter": "python",
   "pygments_lexer": "ipython3",
   "version": "3.11.10"
  }
 },
 "nbformat": 4,
 "nbformat_minor": 5
}
