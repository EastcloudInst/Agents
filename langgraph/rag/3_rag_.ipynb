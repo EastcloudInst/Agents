{
 "cells": [
  {
   "cell_type": "code",
   "execution_count": 3,
   "metadata": {},
   "outputs": [],
   "source": [
    "import os\n",
    "os.environ['DASHSCOPE_API_KEY'] = 'sk-a31a563bce7146bf8c8ab93ad5fea537'\n",
    "\n",
    "from langchain_community.chat_models.tongyi import ChatTongyi\n",
    "llm = ChatTongyi()"
   ]
  },
  {
   "cell_type": "code",
   "execution_count": 4,
   "metadata": {},
   "outputs": [
    {
     "name": "stderr",
     "output_type": "stream",
     "text": [
      "No sentence-transformers model found with name ./embeddings/bge-base-zh-v1.5. Creating a new one with mean pooling.\n"
     ]
    }
   ],
   "source": [
    "from langchain.chains import RetrievalQA\n",
    "from langchain.chat_models import ChatOpenAI\n",
    "from langchain.document_loaders import TextLoader\n",
    "from langchain.embeddings import HuggingFaceBgeEmbeddings\n",
    "from langchain_core.vectorstores import InMemoryVectorStore\n",
    "\n",
    "loader = TextLoader(\n",
    "    file_path=r'第一卷 第四次圣杯战争秘话 - 虚渊玄.txt',\n",
    "    autodetect_encoding=True\n",
    ")\n",
    "docs = loader.load()\n",
    "\n",
    "embedding = HuggingFaceBgeEmbeddings(\n",
    "    model_name='./embeddings/bge-base-zh-v1.5',\n",
    "    model_kwargs={'device': 'cuda'},\n",
    "    encode_kwargs = {'normalize_embeddings': True}\n",
    ")\n",
    "\n",
    "vectorstore = InMemoryVectorStore.from_documents(\n",
    "    documents=docs, embedding=embedding\n",
    ")\n",
    "retriever = vectorstore.as_retriever()\n",
    "\n",
    "qa_stuff = RetrievalQA.from_chain_type(\n",
    "    llm=llm,\n",
    "    chain_type=\"stuff\",\n",
    "    retriever=retriever,\n",
    "    verbose=True\n",
    ")\n"
   ]
  },
  {
   "cell_type": "code",
   "execution_count": 6,
   "metadata": {},
   "outputs": [
    {
     "name": "stdout",
     "output_type": "stream",
     "text": [
      "\n",
      "\n",
      "\u001b[1m> Entering new RetrievalQA chain...\u001b[0m\n",
      "\n",
      "\u001b[1m> Finished chain.\u001b[0m\n"
     ]
    }
   ],
   "source": [
    "question = qa_stuff.invoke(\"请列出圣杯战争所有的英灵，并列举出他们的master、生前身份以及他们的特殊能力，并使用markdown文档来展示\")"
   ]
  },
  {
   "cell_type": "code",
   "execution_count": 8,
   "metadata": {},
   "outputs": [
    {
     "data": {
      "text/markdown": [
       "以下是《Fate/Zero》中登场的所有英灵及其对应的Master、生前身份和特殊能力：\n",
       "\n",
       "### Servant列表\n",
       "\n",
       "| Servant职阶 | 英灵名称 | Master | 生前身份 | 特殊能力 |\n",
       "| --- | --- | --- | --- | --- |\n",
       "| Rider | 征服王伊斯坎达尔（Iskander） | 言峰绮礼 | 马其顿的亚历山大大帝 | 释放魔力、单独行动 |\n",
       "| Lancer | 迪尔姆多·奥迪那（Diarmuid ua Duibhne） | 凯奈斯·艾卢美罗伊·阿其波卢德 | 凯尔特神话中的英雄 | 破魔的红蔷薇 |\n",
       "| Archer | 卫宫切嗣（Emiya Shirou的未来形象） | 远坂时臣 | 未知 | 单独行动、王的财宝 |\n",
       "| Caster | 青须（Gilles de Rais） | 雨生龙之介 | 中世纪法国贵族、蓝胡子 | 未知 |\n",
       "| Berserker | 未知 | 间桐雁夜 | 未知 | 未知 |\n",
       "| Saber | 亚瑟王（Altria Pendragon） | 言峰绮礼（后转为远坂时臣） | 不列颠传说中的王者 | 风王结界、释放魔力 |\n",
       "| Assassin | 哈桑·萨巴哈（Hassan-i-Sabbah） | 言峰绮礼 | 波斯的山中老人 | 切断气息 |\n",
       "\n",
       "请注意，以上表格中“特殊能力”一栏对于部分英灵可能不够精确，因为某些英灵的能力在故事中并未完全展现或解释。此外，Berserker的真实身份在故事中并未明确提及，因此其生前身份和特殊能力在表格中以“未知”标注。具体的特殊能力可以根据原文内容进行补充。"
      ],
      "text/plain": [
       "<IPython.core.display.Markdown object>"
      ]
     },
     "metadata": {},
     "output_type": "display_data"
    }
   ],
   "source": [
    "from IPython.display import display, Markdown\n",
    "\n",
    "display(Markdown(question['result']))"
   ]
  }
 ],
 "metadata": {
  "kernelspec": {
   "display_name": "langgraph",
   "language": "python",
   "name": "python3"
  },
  "language_info": {
   "codemirror_mode": {
    "name": "ipython",
    "version": 3
   },
   "file_extension": ".py",
   "mimetype": "text/x-python",
   "name": "python",
   "nbconvert_exporter": "python",
   "pygments_lexer": "ipython3",
   "version": "3.11.10"
  }
 },
 "nbformat": 4,
 "nbformat_minor": 2
}
